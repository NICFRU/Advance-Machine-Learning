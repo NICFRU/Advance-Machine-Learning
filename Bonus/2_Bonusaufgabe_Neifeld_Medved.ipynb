{
 "cells": [
  {
   "cell_type": "markdown",
   "metadata": {},
   "source": [
    "# Gruppenabgabe\n",
    "### Michel Medved - 9303634\n",
    "### Jan Neifeld - 8722662"
   ]
  },
  {
   "cell_type": "code",
   "execution_count": 1,
   "metadata": {},
   "outputs": [],
   "source": [
    "import os\n",
    "import pandas as pd\n",
    "import numpy as np\n",
    "\n",
    "import matplotlib.pyplot as plt\n",
    "import seaborn as sns"
   ]
  },
  {
   "cell_type": "markdown",
   "metadata": {},
   "source": [
    "# Vorverarbeitung der Daten\n",
    "Zunächst wird der Pfad des Ordners der die einzelnen Dateien enthält eingegeben (hier: WINDOWS format)"
   ]
  },
  {
   "cell_type": "code",
   "execution_count": 2,
   "metadata": {},
   "outputs": [],
   "source": [
    "### WINDOWS path to directory containing training and testing data files\n",
    "input_dir = \"C:\\\\DHBW WWI DS(A) Studium\\\\S5\\\\Advanced Machine Learning\\\\Bonusaufgaben\\\\2_Bonusaufgabe_DimensionalityReduction\\\\\"\n",
    "RANDOM_SEED = 42"
   ]
  },
  {
   "cell_type": "markdown",
   "metadata": {},
   "source": [
    "Mit der Funktion format_data werden die einzelnen Training und Testdaten (PEMS_test; PEMS_testlabels; PEMS_train; PEMS_trainlabels) eingelesen und verarbeitet.\n",
    "- Ersetze \";\" durch Leerzeichen \" \"\n",
    "- Entferne Klammerung \"[\" und \"]\"\n",
    "- speichere Datei als .csv Datei im selben Ordner ab\n",
    "\n",
    "Die Dateien werden im folgenden mit Leerzeichen als Separator eingelesen."
   ]
  },
  {
   "cell_type": "code",
   "execution_count": 3,
   "metadata": {},
   "outputs": [
    {
     "name": "stdout",
     "output_type": "stream",
     "text": [
      "Processing file: PEMS_test\n",
      "Processing file: PEMS_testlabels\n",
      "Processing file: PEMS_train\n",
      "Processing file: PEMS_trainlabels\n"
     ]
    }
   ],
   "source": [
    "def format_data(input_dir):\n",
    "    ### Iteriere über Ordner und prozessiere alle Dateien mit \"train\" oder \"test\" string im Namen\n",
    "    for filename in os.listdir(input_dir):\n",
    "        if filename.endswith(\".csv\"):\n",
    "            continue\n",
    "\n",
    "        if \"test\" in filename or \"train\" in filename:\n",
    "            print(f\"Processing file: {filename}\")\n",
    "            \n",
    "            ### Prozessierung\n",
    "            with open(filename, \"r\") as file:\n",
    "                filedata = file.read()\n",
    "                filedata = filedata.replace(';', ' ')\n",
    "                filedata = filedata.replace('[', '')\n",
    "                filedata = filedata.replace(']', '')\n",
    "            ### Speichern in separate .csv file\n",
    "            with open(filename+\".csv\", 'w') as file:\n",
    "                file.write(filedata)\n",
    "        else:\n",
    "            continue\n",
    "format_data(input_dir)"
   ]
  },
  {
   "cell_type": "markdown",
   "metadata": {},
   "source": [
    "### Die generierten .csv Dateien werden ohne Header eingelesen mit Leerzeichen als Separator:\n",
    "- X_train = PEMS_train.csv\n",
    "- y_train = PEMS_trainlabels.csv\n",
    "- X_test = PEMS_test.csv\n",
    "- y_test = PEMS_testlabels.csv\n",
    "\n",
    "Die Dimensionen der Trainingsets stimmen mit Angaben im Internet überein --> 440 Instanzen (267 train + 173 test) und 138672 einzelne Attribute </br>\n",
    "Allerdings müssen die Labels (y_train und y_test) transponiert werden von (1, 267) --> (267,)"
   ]
  },
  {
   "cell_type": "code",
   "execution_count": 4,
   "metadata": {},
   "outputs": [
    {
     "name": "stdout",
     "output_type": "stream",
     "text": [
      "X_train shape: (267, 138672)\n",
      "y_train shape: (1, 267)\n",
      "X_test shape: (173, 138672)\n",
      "y_test shape: (1, 173)\n"
     ]
    }
   ],
   "source": [
    "X_train = pd.read_csv(\"PEMS_train.csv\", sep=\" \", header=None)\n",
    "y_train = pd.read_csv(\"PEMS_trainlabels.csv\", sep=\" \", header=None)\n",
    "X_test = pd.read_csv(\"PEMS_test.csv\", sep=\" \", header=None)\n",
    "y_test = pd.read_csv(\"PEMS_testlabels.csv\", sep=\" \", header=None)\n",
    "\n",
    "print(f\"X_train shape: {X_train.shape}\")\n",
    "print(f\"y_train shape: {y_train.shape}\")\n",
    "print(f\"X_test shape: {X_test.shape}\")\n",
    "print(f\"y_test shape: {y_test.shape}\")"
   ]
  },
  {
   "cell_type": "code",
   "execution_count": 5,
   "metadata": {},
   "outputs": [
    {
     "name": "stdout",
     "output_type": "stream",
     "text": [
      "Correction of the dimensionality shape of the y_train and y_test data\n",
      "X_train shape: (267, 138672)\n",
      "y_train shape: (267,)\n",
      "X_test shape: (173, 138672)\n",
      "y_test shape: (173,)\n"
     ]
    }
   ],
   "source": [
    "print(\"Correction of the dimensionality shape of the y_train and y_test data\")\n",
    "y_train = y_train.transpose().values.ravel()\n",
    "y_test=y_test.transpose().values.ravel()\n",
    "print(f\"X_train shape: {X_train.shape}\")\n",
    "print(f\"y_train shape: {y_train.shape}\")\n",
    "print(f\"X_test shape: {X_test.shape}\")\n",
    "print(f\"y_test shape: {y_test.shape}\")"
   ]
  },
  {
   "cell_type": "markdown",
   "metadata": {},
   "source": [
    "### Verteilung der vorherzusagenden Zielvariable (Wochentage 1-7) mit leichter Ungleichverteilung"
   ]
  },
  {
   "cell_type": "code",
   "execution_count": 6,
   "metadata": {},
   "outputs": [
    {
     "data": {
      "text/plain": [
       "<AxesSubplot:ylabel='count'>"
      ]
     },
     "execution_count": 6,
     "metadata": {},
     "output_type": "execute_result"
    },
    {
     "data": {
      "image/png": "[encoded data removed]",
      "text/plain": [
       "<Figure size 432x288 with 1 Axes>"
      ]
     },
     "metadata": {
      "needs_background": "light"
     },
     "output_type": "display_data"
    }
   ],
   "source": [
    "sns.countplot(x=y_train)"
   ]
  },
  {
   "cell_type": "markdown",
   "metadata": {},
   "source": [
    "# PCA und explained variance ratio\n",
    "\n",
    "Zunächst wurde eine PCA Pipeline ohne Klassifizierung erstellt. Die kumulative erklärte Varianz enthalten in den einzelnen Principal Components wurde explorative geplottet und die Anzahl der einzelnen Components für jeweil 75, 90, 95, 99 % der enthaltenen Varianz wurden ermittelt."
   ]
  },
  {
   "cell_type": "code",
   "execution_count": 7,
   "metadata": {},
   "outputs": [
    {
     "name": "stdout",
     "output_type": "stream",
     "text": [
      "[1.86618722e-01 1.24870908e-01 9.07014104e-02 7.50306281e-02\n",
      " 7.06214534e-02 2.87593323e-02 1.72911161e-02 1.61515590e-02\n",
      " 1.20610014e-02 1.16451132e-02 1.15532656e-02 9.07745571e-03\n",
      " 7.96032095e-03 7.71581260e-03 6.31439661e-03 5.27858493e-03\n",
      " 5.10904903e-03 4.86969409e-03 4.76957350e-03 4.51124692e-03\n",
      " 4.39664376e-03 4.22116405e-03 4.12826242e-03 4.03838214e-03\n",
      " 3.79778867e-03 3.74390091e-03 3.66294476e-03 3.51056112e-03\n",
      " 3.49491397e-03 3.37491637e-03 3.33157893e-03 3.21232651e-03\n",
      " 3.13255092e-03 3.10946288e-03 3.06810482e-03 2.99926282e-03\n",
      " 2.95616885e-03 2.90204425e-03 2.89611969e-03 2.83565734e-03\n",
      " 2.81239104e-03 2.78298359e-03 2.75033340e-03 2.72492911e-03\n",
      " 2.68007342e-03 2.64644141e-03 2.61574235e-03 2.58631481e-03\n",
      " 2.57163891e-03 2.55348312e-03 2.52663661e-03 2.51831546e-03\n",
      " 2.47218515e-03 2.45942738e-03 2.41823659e-03 2.41018364e-03\n",
      " 2.37553646e-03 2.35999286e-03 2.34012965e-03 2.33079805e-03\n",
      " 2.28513361e-03 2.24015813e-03 2.22619297e-03 2.20324778e-03\n",
      " 2.18990761e-03 2.15878137e-03 2.12608881e-03 2.11308562e-03\n",
      " 2.09750439e-03 2.06415844e-03 2.04657907e-03 2.02327831e-03\n",
      " 2.01605667e-03 1.98948255e-03 1.95383166e-03 1.92326356e-03\n",
      " 1.91929247e-03 1.89604502e-03 1.89037689e-03 1.87056068e-03\n",
      " 1.84978746e-03 1.83830689e-03 1.82717387e-03 1.80362491e-03\n",
      " 1.76743507e-03 1.75819154e-03 1.73905296e-03 1.73590289e-03\n",
      " 1.71625946e-03 1.69513714e-03 1.68601903e-03 1.67360641e-03\n",
      " 1.65930447e-03 1.64809434e-03 1.64401844e-03 1.62584383e-03\n",
      " 1.61511171e-03 1.60906454e-03 1.59390885e-03 1.58979369e-03\n",
      " 1.55561423e-03 1.55135045e-03 1.54729389e-03 1.51902075e-03\n",
      " 1.51454748e-03 1.49265322e-03 1.48861581e-03 1.47973433e-03\n",
      " 1.47495158e-03 1.46846927e-03 1.46086745e-03 1.45180533e-03\n",
      " 1.42819507e-03 1.41409197e-03 1.40978440e-03 1.40341505e-03\n",
      " 1.39022535e-03 1.38307463e-03 1.37050503e-03 1.35649912e-03\n",
      " 1.35021824e-03 1.34646196e-03 1.33245162e-03 1.33173603e-03\n",
      " 1.31657735e-03 1.30834496e-03 1.28817377e-03 1.27664810e-03\n",
      " 1.27111883e-03 1.26680557e-03 1.25304168e-03 1.25208764e-03\n",
      " 1.24778781e-03 1.22651426e-03 1.21883044e-03 1.21319716e-03\n",
      " 1.20316045e-03 1.18767621e-03 1.18129685e-03 1.17955878e-03\n",
      " 1.17224237e-03 1.16325300e-03 1.15771417e-03 1.15708536e-03\n",
      " 1.14697163e-03 1.13742275e-03 1.12458309e-03 1.11893641e-03\n",
      " 1.11254273e-03 1.09850651e-03 1.08735970e-03 1.08348586e-03\n",
      " 1.07498761e-03 1.07323084e-03 1.06184496e-03 1.04719208e-03\n",
      " 1.04307983e-03 1.02877889e-03 1.02694310e-03 1.01910649e-03\n",
      " 1.01084335e-03 9.94197408e-04 9.88308306e-04 9.76472590e-04\n",
      " 9.73088535e-04 9.62871088e-04 9.53791110e-04 9.30349244e-04\n",
      " 9.12936130e-04 8.87684164e-04 8.67410126e-04 8.51187553e-04\n",
      " 8.45593562e-04 8.19380018e-04 8.10785274e-04 8.02135772e-04\n",
      " 7.96551621e-04 7.85499273e-04 7.67817292e-04 7.62525285e-04\n",
      " 7.36789150e-04 7.34388946e-04 7.24181278e-04 7.15008666e-04\n",
      " 7.04832860e-04 7.00148737e-04 6.91223893e-04 6.85675288e-04\n",
      " 6.68747445e-04 6.45209679e-04 6.43733082e-04 6.22782928e-04\n",
      " 6.12499478e-04 5.77332582e-04 5.22514344e-04 1.32510563e-31\n",
      " 6.85734187e-32 5.92915771e-32 5.45527328e-32 4.95430651e-32\n",
      " 4.05251605e-32 3.01952032e-32 2.63262129e-32 2.61480426e-32\n",
      " 2.31809913e-32 1.69034806e-32 1.59341478e-32 1.58165865e-32\n",
      " 1.47412554e-32 1.46910113e-32 1.27456159e-32 1.20599985e-32\n",
      " 1.04502876e-32 7.74317651e-33 7.31833628e-33 6.97670674e-33\n",
      " 6.78949318e-33 6.14218637e-33 5.23769887e-33 4.74291871e-33\n",
      " 4.72668931e-33 4.47294940e-33 4.25778765e-33 4.01847124e-33\n",
      " 3.79031049e-33 3.49979043e-33 3.43967888e-33 3.36036539e-33\n",
      " 2.54910571e-33 2.15453315e-33 2.13080103e-33 1.92501451e-33\n",
      " 1.74762911e-33 1.63567783e-33 1.44839992e-33 1.30703396e-33\n",
      " 1.04222081e-33 1.03017874e-33 9.11155481e-34 8.14493810e-34\n",
      " 8.14493810e-34 8.14493810e-34 8.14493810e-34 8.14493810e-34\n",
      " 8.14493810e-34 8.14493810e-34 8.14493810e-34 8.14493810e-34\n",
      " 8.14493810e-34 8.14493810e-34 8.14493810e-34 8.14493810e-34\n",
      " 8.14493810e-34 8.14493810e-34 8.14493810e-34 8.14493810e-34\n",
      " 8.14493810e-34 7.43196643e-34 4.62281645e-34 3.58754041e-34\n",
      " 3.07909009e-34 2.07218626e-34 2.04482263e-34 1.45760992e-34\n",
      " 8.25715965e-35 6.65060164e-35 2.26819967e-36]\n",
      "Number of Components:  267\n"
     ]
    },
    {
     "data": {
      "image/png": "[encoded data removed]",
      "text/plain": [
       "<Figure size 1080x720 with 1 Axes>"
      ]
     },
     "metadata": {
      "needs_background": "light"
     },
     "output_type": "display_data"
    }
   ],
   "source": [
    "from sklearn.pipeline import Pipeline as Pipeline\n",
    "from sklearn.preprocessing import StandardScaler, RobustScaler\n",
    "from sklearn.decomposition import PCA\n",
    "\n",
    "pipeline = Pipeline(\n",
    "    steps=[\n",
    "        (\"scaler\", StandardScaler()),\n",
    "        (\"pca\", PCA(random_state=RANDOM_SEED))\n",
    "    ]\n",
    ")\n",
    "pipeline.fit(X_train)\n",
    "\n",
    "### Show the number of the explained variance ratio and the number of components\n",
    "print(pipeline.named_steps[\"pca\"].explained_variance_ratio_)\n",
    "print(\"Number of Components: \", pipeline.named_steps[\"pca\"].n_components_)\n",
    "\n",
    "### Plot explained variance as a function of number of Components\n",
    "fig, ax = plt.subplots(1,1, figsize=(15,10), squeeze=False)\n",
    "ax = plt.plot(np.cumsum(pipeline.named_steps[\"pca\"].explained_variance_ratio_))\n",
    "### Draw horizontal lines at 0.75, 0.9, 0.95, 0.99\n",
    "plt.axhline(y = 0.75, color='y', linestyle='--', label = '75% Explained Variance')\n",
    "plt.axhline(y = 0.90, color='c', linestyle='--', label = '90% Explained Variance')\n",
    "plt.axhline(y = 0.95, color='k', linestyle='--', label = '95% Explained Variance')\n",
    "plt.axhline(y = 0.99, color='r', linestyle='--', label = '99% Explained Variance')\n",
    "\n",
    "plt.xlabel('number of components')\n",
    "plt.ylabel('cumulative explained variance')\n",
    "plt.legend(loc='best')\n",
    "plt.show()"
   ]
  },
  {
   "cell_type": "code",
   "execution_count": 8,
   "metadata": {},
   "outputs": [
    {
     "name": "stdout",
     "output_type": "stream",
     "text": [
      "75.0 % explained variance: 34\n",
      "90.0 % explained variance: 103\n",
      "95.0 % explained variance: 140\n",
      "99.0 % explained variance: 180\n",
      "[34, 103, 140, 180]\n"
     ]
    }
   ],
   "source": [
    "pca_var_lst = [0.75, 0.90, 0.95, 0.99]\n",
    "n_comp_lst = []\n",
    "for i in pca_var_lst:\n",
    "    pipeline = Pipeline(\n",
    "    steps=[\n",
    "        (\"scaler\", StandardScaler()),\n",
    "        (\"pca\", PCA(i, random_state=RANDOM_SEED))\n",
    "    ])\n",
    "    pipeline.fit(X_train)\n",
    "    n_comp = pipeline.named_steps[\"pca\"].n_components_\n",
    "    n_comp_lst.append(n_comp)\n",
    "    print(f\"{i*100} % explained variance: {n_comp}\")\n",
    "print(n_comp_lst)"
   ]
  },
  {
   "cell_type": "markdown",
   "metadata": {},
   "source": [
    "# Random Forest Classification Pipeline"
   ]
  },
  {
   "cell_type": "code",
   "execution_count": 9,
   "metadata": {},
   "outputs": [],
   "source": [
    "from sklearn.ensemble import RandomForestClassifier\n",
    "from sklearn.model_selection import GridSearchCV\n",
    "\n",
    "from sklearn.metrics import classification_report\n",
    "from sklearn.metrics import confusion_matrix\n",
    "from sklearn.metrics import accuracy_score\n",
    "from sklearn.metrics import RocCurveDisplay, PrecisionRecallDisplay\n",
    "from sklearn.metrics import roc_curve, auc, precision_recall_curve"
   ]
  },
  {
   "cell_type": "code",
   "execution_count": 10,
   "metadata": {},
   "outputs": [
    {
     "name": "stdout",
     "output_type": "stream",
     "text": [
      "Fitting 3 folds for each of 27 candidates, totalling 81 fits\n",
      "[CV] END pca__n_components=34, rforest__max_depth=10, rforest__n_estimators=80; total time=   4.8s\n",
      "[CV] END pca__n_components=34, rforest__max_depth=10, rforest__n_estimators=80; total time=   4.7s\n",
      "[CV] END pca__n_components=34, rforest__max_depth=10, rforest__n_estimators=80; total time=   4.8s\n",
      "[CV] END pca__n_components=34, rforest__max_depth=10, rforest__n_estimators=100; total time=   4.7s\n",
      "[CV] END pca__n_components=34, rforest__max_depth=10, rforest__n_estimators=100; total time=   4.8s\n",
      "[CV] END pca__n_components=34, rforest__max_depth=10, rforest__n_estimators=100; total time=   5.1s\n",
      "[CV] END pca__n_components=34, rforest__max_depth=10, rforest__n_estimators=200; total time=   4.9s\n",
      "[CV] END pca__n_components=34, rforest__max_depth=10, rforest__n_estimators=200; total time=   4.8s\n",
      "[CV] END pca__n_components=34, rforest__max_depth=10, rforest__n_estimators=200; total time=   5.0s\n",
      "[CV] END pca__n_components=34, rforest__max_depth=30, rforest__n_estimators=80; total time=   4.6s\n",
      "[CV] END pca__n_components=34, rforest__max_depth=30, rforest__n_estimators=80; total time=   4.8s\n",
      "[CV] END pca__n_components=34, rforest__max_depth=30, rforest__n_estimators=80; total time=   4.8s\n",
      "[CV] END pca__n_components=34, rforest__max_depth=30, rforest__n_estimators=100; total time=   4.7s\n",
      "[CV] END pca__n_components=34, rforest__max_depth=30, rforest__n_estimators=100; total time=   4.7s\n",
      "[CV] END pca__n_components=34, rforest__max_depth=30, rforest__n_estimators=100; total time=   4.7s\n",
      "[CV] END pca__n_components=34, rforest__max_depth=30, rforest__n_estimators=200; total time=   4.9s\n",
      "[CV] END pca__n_components=34, rforest__max_depth=30, rforest__n_estimators=200; total time=   4.7s\n",
      "[CV] END pca__n_components=34, rforest__max_depth=30, rforest__n_estimators=200; total time=   4.8s\n",
      "[CV] END pca__n_components=34, rforest__max_depth=50, rforest__n_estimators=80; total time=   4.7s\n",
      "[CV] END pca__n_components=34, rforest__max_depth=50, rforest__n_estimators=80; total time=   4.7s\n",
      "[CV] END pca__n_components=34, rforest__max_depth=50, rforest__n_estimators=80; total time=   4.7s\n",
      "[CV] END pca__n_components=34, rforest__max_depth=50, rforest__n_estimators=100; total time=   4.6s\n",
      "[CV] END pca__n_components=34, rforest__max_depth=50, rforest__n_estimators=100; total time=   4.7s\n",
      "[CV] END pca__n_components=34, rforest__max_depth=50, rforest__n_estimators=100; total time=   4.8s\n",
      "[CV] END pca__n_components=34, rforest__max_depth=50, rforest__n_estimators=200; total time=   4.9s\n",
      "[CV] END pca__n_components=34, rforest__max_depth=50, rforest__n_estimators=200; total time=   4.9s\n",
      "[CV] END pca__n_components=34, rforest__max_depth=50, rforest__n_estimators=200; total time=   4.9s\n",
      "[CV] END pca__n_components=103, rforest__max_depth=10, rforest__n_estimators=80; total time=   8.7s\n",
      "[CV] END pca__n_components=103, rforest__max_depth=10, rforest__n_estimators=80; total time=   8.4s\n",
      "[CV] END pca__n_components=103, rforest__max_depth=10, rforest__n_estimators=80; total time=   8.7s\n",
      "[CV] END pca__n_components=103, rforest__max_depth=10, rforest__n_estimators=100; total time=   8.4s\n",
      "[CV] END pca__n_components=103, rforest__max_depth=10, rforest__n_estimators=100; total time=   8.4s\n",
      "[CV] END pca__n_components=103, rforest__max_depth=10, rforest__n_estimators=100; total time=   9.5s\n",
      "[CV] END pca__n_components=103, rforest__max_depth=10, rforest__n_estimators=200; total time=   8.5s\n",
      "[CV] END pca__n_components=103, rforest__max_depth=10, rforest__n_estimators=200; total time=   8.6s\n",
      "[CV] END pca__n_components=103, rforest__max_depth=10, rforest__n_estimators=200; total time=   8.6s\n",
      "[CV] END pca__n_components=103, rforest__max_depth=30, rforest__n_estimators=80; total time=   8.3s\n",
      "[CV] END pca__n_components=103, rforest__max_depth=30, rforest__n_estimators=80; total time=   8.4s\n",
      "[CV] END pca__n_components=103, rforest__max_depth=30, rforest__n_estimators=80; total time=   8.4s\n",
      "[CV] END pca__n_components=103, rforest__max_depth=30, rforest__n_estimators=100; total time=   8.5s\n",
      "[CV] END pca__n_components=103, rforest__max_depth=30, rforest__n_estimators=100; total time=   8.3s\n",
      "[CV] END pca__n_components=103, rforest__max_depth=30, rforest__n_estimators=100; total time=   8.5s\n",
      "[CV] END pca__n_components=103, rforest__max_depth=30, rforest__n_estimators=200; total time=   8.8s\n",
      "[CV] END pca__n_components=103, rforest__max_depth=30, rforest__n_estimators=200; total time=   8.5s\n",
      "[CV] END pca__n_components=103, rforest__max_depth=30, rforest__n_estimators=200; total time=   8.5s\n",
      "[CV] END pca__n_components=103, rforest__max_depth=50, rforest__n_estimators=80; total time=   8.5s\n",
      "[CV] END pca__n_components=103, rforest__max_depth=50, rforest__n_estimators=80; total time=   8.3s\n",
      "[CV] END pca__n_components=103, rforest__max_depth=50, rforest__n_estimators=80; total time=   8.4s\n",
      "[CV] END pca__n_components=103, rforest__max_depth=50, rforest__n_estimators=100; total time=   8.5s\n",
      "[CV] END pca__n_components=103, rforest__max_depth=50, rforest__n_estimators=100; total time=   8.3s\n",
      "[CV] END pca__n_components=103, rforest__max_depth=50, rforest__n_estimators=100; total time=   8.4s\n",
      "[CV] END pca__n_components=103, rforest__max_depth=50, rforest__n_estimators=200; total time=   8.6s\n",
      "[CV] END pca__n_components=103, rforest__max_depth=50, rforest__n_estimators=200; total time=   8.6s\n",
      "[CV] END pca__n_components=103, rforest__max_depth=50, rforest__n_estimators=200; total time=   8.6s\n",
      "[CV] END pca__n_components=140, rforest__max_depth=10, rforest__n_estimators=80; total time=  10.0s\n",
      "[CV] END pca__n_components=140, rforest__max_depth=10, rforest__n_estimators=80; total time=  10.1s\n",
      "[CV] END pca__n_components=140, rforest__max_depth=10, rforest__n_estimators=80; total time=   9.9s\n",
      "[CV] END pca__n_components=140, rforest__max_depth=10, rforest__n_estimators=100; total time=  10.0s\n",
      "[CV] END pca__n_components=140, rforest__max_depth=10, rforest__n_estimators=100; total time=   9.9s\n",
      "[CV] END pca__n_components=140, rforest__max_depth=10, rforest__n_estimators=100; total time=  10.1s\n",
      "[CV] END pca__n_components=140, rforest__max_depth=10, rforest__n_estimators=200; total time=  10.3s\n",
      "[CV] END pca__n_components=140, rforest__max_depth=10, rforest__n_estimators=200; total time=  10.2s\n",
      "[CV] END pca__n_components=140, rforest__max_depth=10, rforest__n_estimators=200; total time=  10.2s\n",
      "[CV] END pca__n_components=140, rforest__max_depth=30, rforest__n_estimators=80; total time=  10.1s\n",
      "[CV] END pca__n_components=140, rforest__max_depth=30, rforest__n_estimators=80; total time=   9.9s\n",
      "[CV] END pca__n_components=140, rforest__max_depth=30, rforest__n_estimators=80; total time=  10.1s\n",
      "[CV] END pca__n_components=140, rforest__max_depth=30, rforest__n_estimators=100; total time=  10.1s\n",
      "[CV] END pca__n_components=140, rforest__max_depth=30, rforest__n_estimators=100; total time=  10.0s\n",
      "[CV] END pca__n_components=140, rforest__max_depth=30, rforest__n_estimators=100; total time=  10.7s\n",
      "[CV] END pca__n_components=140, rforest__max_depth=30, rforest__n_estimators=200; total time=  10.4s\n",
      "[CV] END pca__n_components=140, rforest__max_depth=30, rforest__n_estimators=200; total time=  10.1s\n",
      "[CV] END pca__n_components=140, rforest__max_depth=30, rforest__n_estimators=200; total time=  10.2s\n",
      "[CV] END pca__n_components=140, rforest__max_depth=50, rforest__n_estimators=80; total time=  10.0s\n",
      "[CV] END pca__n_components=140, rforest__max_depth=50, rforest__n_estimators=80; total time=  10.0s\n",
      "[CV] END pca__n_components=140, rforest__max_depth=50, rforest__n_estimators=80; total time=   9.9s\n",
      "[CV] END pca__n_components=140, rforest__max_depth=50, rforest__n_estimators=100; total time=  10.0s\n",
      "[CV] END pca__n_components=140, rforest__max_depth=50, rforest__n_estimators=100; total time=  10.1s\n",
      "[CV] END pca__n_components=140, rforest__max_depth=50, rforest__n_estimators=100; total time=  10.0s\n",
      "[CV] END pca__n_components=140, rforest__max_depth=50, rforest__n_estimators=200; total time=  10.2s\n",
      "[CV] END pca__n_components=140, rforest__max_depth=50, rforest__n_estimators=200; total time=  10.2s\n",
      "[CV] END pca__n_components=140, rforest__max_depth=50, rforest__n_estimators=200; total time=  10.2s\n",
      "The best parameters: {'pca__n_components': 34, 'rforest__max_depth': 30, 'rforest__n_estimators': 100}\n"
     ]
    }
   ],
   "source": [
    "pca_rf_pipeline = Pipeline(\n",
    "    steps=[\n",
    "        (\"scaler\", StandardScaler()),\n",
    "        (\"pca\", PCA(random_state=RANDOM_SEED)),\n",
    "        (\"rforest\", RandomForestClassifier(random_state=RANDOM_SEED))\n",
    "    ]\n",
    ")\n",
    "\n",
    "pca_rf_estimator = GridSearchCV(\n",
    "    estimator=pca_rf_pipeline,\n",
    "    param_grid = {\n",
    "        \"pca__n_components\":[34, 103, 140],\n",
    "        \"rforest__max_depth\":[10, 30, 50],\n",
    "        \"rforest__n_estimators\":[80, 100, 200],\n",
    "        # \"rforest__bootstrap\":[True, False],\n",
    "        # # \"rforest__criterion\":[\"gini\", \"entropy\", \"log_loss\"]\n",
    "    },\n",
    "    cv=3,\n",
    "    verbose=2,\n",
    "    scoring=\"f1_weighted\",\n",
    "    )\n",
    "\n",
    "pca_rf_estimator.fit(X_train, y_train)\n",
    "print(f\"The best parameters: {pca_rf_estimator.best_params_}\")"
   ]
  },
  {
   "cell_type": "markdown",
   "metadata": {},
   "source": [
    "# Die besten Parameter werden in die pipeline integriert und das Modell wird evaluiert"
   ]
  },
  {
   "cell_type": "code",
   "execution_count": 11,
   "metadata": {},
   "outputs": [
    {
     "name": "stdout",
     "output_type": "stream",
     "text": [
      "Classification Report:\n",
      "               precision    recall  f1-score   support\n",
      "\n",
      "           1       1.00      1.00      1.00        30\n",
      "           2       1.00      0.92      0.96        25\n",
      "           3       0.79      0.73      0.76        26\n",
      "           4       0.66      0.83      0.73        23\n",
      "           5       0.95      0.91      0.93        22\n",
      "           6       0.96      0.93      0.94        27\n",
      "           7       1.00      1.00      1.00        20\n",
      "\n",
      "    accuracy                           0.90       173\n",
      "   macro avg       0.91      0.90      0.90       173\n",
      "weighted avg       0.91      0.90      0.90       173\n",
      "\n",
      "TESTING RESULTS: \n",
      "===============================\n",
      "CONFUSION MATRIX:\n",
      "[[30  0  0  0  0  0  0]\n",
      " [ 0 23  2  0  0  0  0]\n",
      " [ 0  0 19  7  0  0  0]\n",
      " [ 0  0  3 19  1  0  0]\n",
      " [ 0  0  0  1 20  1  0]\n",
      " [ 0  0  0  2  0 25  0]\n",
      " [ 0  0  0  0  0  0 20]]\n",
      "ACCURACY SCORE:\n",
      "0.9017\n"
     ]
    }
   ],
   "source": [
    "### Setze die besten Parameter in die Pipeline ein und fitte erneut auf Trainingsdaten\n",
    "pca_rf_pipeline.set_params(**pca_rf_estimator.best_params_)\n",
    "pca_rf_pipeline.fit(X_train, y_train)\n",
    "\n",
    "### Klassifierungsevaluation\n",
    "pca_rf_pred = pca_rf_pipeline.predict(X_test)\n",
    "print(\"Classification Report:\\n\", classification_report(y_test, pca_rf_pred))\n",
    "print(\"TESTING RESULTS: \\n===============================\")\n",
    "print(f\"CONFUSION MATRIX:\\n{confusion_matrix(y_test, pca_rf_pred)}\")\n",
    "print(f\"ACCURACY SCORE:\\n{accuracy_score(y_test, pca_rf_pred):.4f}\")"
   ]
  },
  {
   "cell_type": "markdown",
   "metadata": {},
   "source": [
    "# Random Forest Classification without PCA"
   ]
  },
  {
   "cell_type": "code",
   "execution_count": 12,
   "metadata": {},
   "outputs": [
    {
     "name": "stdout",
     "output_type": "stream",
     "text": [
      "Fitting 3 folds for each of 9 candidates, totalling 27 fits\n",
      "[CV] END ....rforest__max_depth=10, rforest__n_estimators=80; total time=   3.7s\n",
      "[CV] END ....rforest__max_depth=10, rforest__n_estimators=80; total time=   3.6s\n",
      "[CV] END ....rforest__max_depth=10, rforest__n_estimators=80; total time=   3.6s\n",
      "[CV] END ...rforest__max_depth=10, rforest__n_estimators=100; total time=   3.9s\n",
      "[CV] END ...rforest__max_depth=10, rforest__n_estimators=100; total time=   3.8s\n",
      "[CV] END ...rforest__max_depth=10, rforest__n_estimators=100; total time=   4.0s\n",
      "[CV] END ...rforest__max_depth=10, rforest__n_estimators=200; total time=   5.5s\n",
      "[CV] END ...rforest__max_depth=10, rforest__n_estimators=200; total time=   5.4s\n",
      "[CV] END ...rforest__max_depth=10, rforest__n_estimators=200; total time=   5.3s\n",
      "[CV] END ....rforest__max_depth=30, rforest__n_estimators=80; total time=   3.5s\n",
      "[CV] END ....rforest__max_depth=30, rforest__n_estimators=80; total time=   3.6s\n",
      "[CV] END ....rforest__max_depth=30, rforest__n_estimators=80; total time=   3.6s\n",
      "[CV] END ...rforest__max_depth=30, rforest__n_estimators=100; total time=   4.0s\n",
      "[CV] END ...rforest__max_depth=30, rforest__n_estimators=100; total time=   4.0s\n",
      "[CV] END ...rforest__max_depth=30, rforest__n_estimators=100; total time=   3.9s\n",
      "[CV] END ...rforest__max_depth=30, rforest__n_estimators=200; total time=   6.1s\n",
      "[CV] END ...rforest__max_depth=30, rforest__n_estimators=200; total time=   5.8s\n",
      "[CV] END ...rforest__max_depth=30, rforest__n_estimators=200; total time=   5.5s\n",
      "[CV] END ....rforest__max_depth=50, rforest__n_estimators=80; total time=   3.7s\n",
      "[CV] END ....rforest__max_depth=50, rforest__n_estimators=80; total time=   3.8s\n",
      "[CV] END ....rforest__max_depth=50, rforest__n_estimators=80; total time=   4.0s\n",
      "[CV] END ...rforest__max_depth=50, rforest__n_estimators=100; total time=   4.0s\n",
      "[CV] END ...rforest__max_depth=50, rforest__n_estimators=100; total time=   4.1s\n",
      "[CV] END ...rforest__max_depth=50, rforest__n_estimators=100; total time=   4.0s\n",
      "[CV] END ...rforest__max_depth=50, rforest__n_estimators=200; total time=   6.3s\n",
      "[CV] END ...rforest__max_depth=50, rforest__n_estimators=200; total time=   5.9s\n",
      "[CV] END ...rforest__max_depth=50, rforest__n_estimators=200; total time=   5.7s\n",
      "The best parameters: {'rforest__max_depth': 10, 'rforest__n_estimators': 200}\n",
      "Classification Report:\n",
      "               precision    recall  f1-score   support\n",
      "\n",
      "           1       1.00      1.00      1.00        30\n",
      "           2       1.00      1.00      1.00        25\n",
      "           3       1.00      1.00      1.00        26\n",
      "           4       1.00      1.00      1.00        23\n",
      "           5       0.92      1.00      0.96        22\n",
      "           6       1.00      0.93      0.96        27\n",
      "           7       1.00      1.00      1.00        20\n",
      "\n",
      "    accuracy                           0.99       173\n",
      "   macro avg       0.99      0.99      0.99       173\n",
      "weighted avg       0.99      0.99      0.99       173\n",
      "\n",
      "TESTING RESULTS: \n",
      "===============================\n",
      "CONFUSION MATRIX:\n",
      "[[30  0  0  0  0  0  0]\n",
      " [ 0 25  0  0  0  0  0]\n",
      " [ 0  0 26  0  0  0  0]\n",
      " [ 0  0  0 23  0  0  0]\n",
      " [ 0  0  0  0 22  0  0]\n",
      " [ 0  0  0  0  2 25  0]\n",
      " [ 0  0  0  0  0  0 20]]\n",
      "ACCURACY SCORE:\n",
      "0.9884\n"
     ]
    }
   ],
   "source": [
    "rf_pipeline = Pipeline(\n",
    "    steps=[\n",
    "        (\"scaler\", StandardScaler()),\n",
    "        (\"rforest\", RandomForestClassifier(random_state=RANDOM_SEED))\n",
    "    ]\n",
    ")\n",
    "\n",
    "rf_estimator = GridSearchCV(\n",
    "    estimator=rf_pipeline,\n",
    "    param_grid = {\n",
    "        \"rforest__max_depth\":[10, 30, 50],\n",
    "        \"rforest__n_estimators\":[80, 100, 200],\n",
    "        # \"rforest__bootstrap\":[True, False],\n",
    "        # # \"rforest__criterion\":[\"gini\", \"entropy\", \"log_loss\"]\n",
    "    },\n",
    "    cv=3,\n",
    "    verbose=2,\n",
    "    scoring=\"f1_weighted\",\n",
    "    )\n",
    "\n",
    "rf_estimator.fit(X_train, y_train)\n",
    "print(f\"The best parameters: {rf_estimator.best_params_}\")\n",
    "\n",
    "### Setze die besten Parameter in die Pipeline ein und fitte erneut auf Trainingsdaten\n",
    "rf_pipeline.set_params(**rf_estimator.best_params_)\n",
    "rf_pipeline.fit(X_train, y_train)\n",
    "\n",
    "### Klassifierungsevaluation\n",
    "rf_pred = rf_pipeline.predict(X_test)\n",
    "print(\"Classification Report:\\n\", classification_report(y_test, rf_pred))\n",
    "print(\"TESTING RESULTS: \\n===============================\")\n",
    "print(f\"CONFUSION MATRIX:\\n{confusion_matrix(y_test, rf_pred)}\")\n",
    "print(f\"ACCURACY SCORE:\\n{accuracy_score(y_test, rf_pred):.4f}\")"
   ]
  },
  {
   "cell_type": "markdown",
   "metadata": {},
   "source": [
    "# ROC and Precision/Recall Curves für jede Klasse\n",
    "Die Kurven müssen für jede Klasse einzeln angefertigt werden. Dabei müssen die Labels zunächst binariziert werden."
   ]
  },
  {
   "cell_type": "code",
   "execution_count": 13,
   "metadata": {},
   "outputs": [
    {
     "data": {
      "image/png": "[encoded data removed]",
      "text/plain": [
       "<Figure size 432x288 with 1 Axes>"
      ]
     },
     "metadata": {
      "needs_background": "light"
     },
     "output_type": "display_data"
    },
    {
     "data": {
      "image/png": "[encoded data removed]",
      "text/plain": [
       "<Figure size 432x288 with 1 Axes>"
      ]
     },
     "metadata": {
      "needs_background": "light"
     },
     "output_type": "display_data"
    }
   ],
   "source": [
    "from sklearn.preprocessing import label_binarize\n",
    "from itertools import cycle\n",
    "\n",
    "y_score = pca_rf_pipeline.fit(X_train, y_train).predict_proba(X_test)\n",
    "y_test_bin = label_binarize(y_test, classes=[1, 2, 3, 4, 5, 6, 7])\n",
    "n_classes = y_test_bin.shape[1]\n",
    "\n",
    "# ROC CURVE\n",
    "#########################\n",
    "fpr = dict()\n",
    "tpr = dict()\n",
    "roc_auc = dict()\n",
    "### Generate ROC_AUC Score for each class for each instance\n",
    "for i in range(n_classes):\n",
    "    fpr[i], tpr[i], _ = roc_curve(y_test_bin[:, i], y_score[:, i])\n",
    "    roc_auc[i] = auc(fpr[i], tpr[i])\n",
    "colors = cycle(['blue', 'red', 'green', 'orange', 'magenta', 'yellow', 'cyan'])\n",
    "for i, color in zip(range(n_classes), colors):\n",
    "    plt.plot(fpr[i], tpr[i], color=color,\n",
    "             label=f\"ROC curve of class {i+1} ({round(roc_auc[i],2)})\"\n",
    "             )\n",
    "plt.plot([0, 1], [0, 1], 'k--')\n",
    "plt.xlim([-0.05, 1.0])\n",
    "plt.ylim([0.0, 1.05])\n",
    "plt.xlabel('False Positive Rate')\n",
    "plt.ylabel('True Positive Rate')\n",
    "plt.title('ROC for multi-class data')\n",
    "plt.legend(loc=\"best\")\n",
    "plt.show()\n",
    "\n",
    "\n",
    "# PRECISION RECALL CURVE\n",
    "#########################\n",
    "precision = dict()\n",
    "recall = dict()\n",
    "precrec_auc = dict()\n",
    "for i in range(n_classes):\n",
    "    precision[i], recall[i], _ = precision_recall_curve(y_test_bin[:, i], y_score[:, i])\n",
    "    precrec_auc[i] = auc(recall[i], precision[i])\n",
    "for i, color in zip(range(n_classes), colors):\n",
    "    plt.plot(precision[i], recall[i], color=color,\n",
    "             label=f\"PRRE curve of class {i+1} ({round(precrec_auc[i],2)})\"\n",
    "             )\n",
    "plt.plot([1, 0], [0, 1], 'k--')\n",
    "plt.xlabel(\"Recall\")\n",
    "plt.ylabel(\"Precision\")\n",
    "plt.title('Precsion Recall curve for multi-class data')\n",
    "plt.legend(loc=\"best\")\n",
    "plt.show()"
   ]
  },
  {
   "cell_type": "markdown",
   "metadata": {},
   "source": [
    "# Andere Klassifizierungsmodelle zum Vergleich"
   ]
  },
  {
   "cell_type": "code",
   "execution_count": 14,
   "metadata": {},
   "outputs": [],
   "source": [
    "from sklearn.linear_model import LogisticRegression\n",
    "from sklearn.discriminant_analysis import LinearDiscriminantAnalysis\n",
    "from sklearn.neighbors import KNeighborsClassifier"
   ]
  },
  {
   "cell_type": "markdown",
   "metadata": {},
   "source": [
    "# Logistic Regression"
   ]
  },
  {
   "cell_type": "code",
   "execution_count": 15,
   "metadata": {},
   "outputs": [
    {
     "name": "stdout",
     "output_type": "stream",
     "text": [
      "Fitting 3 folds for each of 4 candidates, totalling 12 fits\n",
      "[CV] END ...............lr__penalty=l1, pca__n_components=34; total time=   4.4s\n",
      "[CV] END ...............lr__penalty=l1, pca__n_components=34; total time=   3.9s\n",
      "[CV] END ...............lr__penalty=l1, pca__n_components=34; total time=   3.9s\n",
      "[CV] END ...............lr__penalty=l2, pca__n_components=34; total time=   5.4s\n",
      "[CV] END ...............lr__penalty=l2, pca__n_components=34; total time=   5.0s\n",
      "[CV] END ...............lr__penalty=l2, pca__n_components=34; total time=   6.1s\n",
      "[CV] END .......lr__penalty=elasticnet, pca__n_components=34; total time=   3.5s\n",
      "[CV] END .......lr__penalty=elasticnet, pca__n_components=34; total time=   3.4s\n",
      "[CV] END .......lr__penalty=elasticnet, pca__n_components=34; total time=   3.7s\n",
      "[CV] END .............lr__penalty=None, pca__n_components=34; total time=   4.4s\n",
      "[CV] END .............lr__penalty=None, pca__n_components=34; total time=   4.4s\n",
      "[CV] END .............lr__penalty=None, pca__n_components=34; total time=   4.0s\n"
     ]
    },
    {
     "name": "stderr",
     "output_type": "stream",
     "text": [
      "c:\\Users\\miche\\AppData\\Local\\Programs\\Python\\Python39\\lib\\site-packages\\sklearn\\model_selection\\_validation.py:378: FitFailedWarning: \n",
      "9 fits failed out of a total of 12.\n",
      "The score on these train-test partitions for these parameters will be set to nan.\n",
      "If these failures are not expected, you can try to debug them by setting error_score='raise'.\n",
      "\n",
      "Below are more details about the failures:\n",
      "--------------------------------------------------------------------------------\n",
      "3 fits failed with the following error:\n",
      "Traceback (most recent call last):\n",
      "  File \"c:\\Users\\miche\\AppData\\Local\\Programs\\Python\\Python39\\lib\\site-packages\\sklearn\\model_selection\\_validation.py\", line 686, in _fit_and_score\n",
      "    estimator.fit(X_train, y_train, **fit_params)\n",
      "  File \"c:\\Users\\miche\\AppData\\Local\\Programs\\Python\\Python39\\lib\\site-packages\\sklearn\\pipeline.py\", line 382, in fit\n",
      "    self._final_estimator.fit(Xt, y, **fit_params_last_step)\n",
      "  File \"c:\\Users\\miche\\AppData\\Local\\Programs\\Python\\Python39\\lib\\site-packages\\sklearn\\linear_model\\_logistic.py\", line 1091, in fit\n",
      "    solver = _check_solver(self.solver, self.penalty, self.dual)\n",
      "  File \"c:\\Users\\miche\\AppData\\Local\\Programs\\Python\\Python39\\lib\\site-packages\\sklearn\\linear_model\\_logistic.py\", line 61, in _check_solver\n",
      "    raise ValueError(\n",
      "ValueError: Solver lbfgs supports only 'l2' or 'none' penalties, got l1 penalty.\n",
      "\n",
      "--------------------------------------------------------------------------------\n",
      "3 fits failed with the following error:\n",
      "Traceback (most recent call last):\n",
      "  File \"c:\\Users\\miche\\AppData\\Local\\Programs\\Python\\Python39\\lib\\site-packages\\sklearn\\model_selection\\_validation.py\", line 686, in _fit_and_score\n",
      "    estimator.fit(X_train, y_train, **fit_params)\n",
      "  File \"c:\\Users\\miche\\AppData\\Local\\Programs\\Python\\Python39\\lib\\site-packages\\sklearn\\pipeline.py\", line 382, in fit\n",
      "    self._final_estimator.fit(Xt, y, **fit_params_last_step)\n",
      "  File \"c:\\Users\\miche\\AppData\\Local\\Programs\\Python\\Python39\\lib\\site-packages\\sklearn\\linear_model\\_logistic.py\", line 1091, in fit\n",
      "    solver = _check_solver(self.solver, self.penalty, self.dual)\n",
      "  File \"c:\\Users\\miche\\AppData\\Local\\Programs\\Python\\Python39\\lib\\site-packages\\sklearn\\linear_model\\_logistic.py\", line 61, in _check_solver\n",
      "    raise ValueError(\n",
      "ValueError: Solver lbfgs supports only 'l2' or 'none' penalties, got elasticnet penalty.\n",
      "\n",
      "--------------------------------------------------------------------------------\n",
      "3 fits failed with the following error:\n",
      "Traceback (most recent call last):\n",
      "  File \"c:\\Users\\miche\\AppData\\Local\\Programs\\Python\\Python39\\lib\\site-packages\\sklearn\\model_selection\\_validation.py\", line 686, in _fit_and_score\n",
      "    estimator.fit(X_train, y_train, **fit_params)\n",
      "  File \"c:\\Users\\miche\\AppData\\Local\\Programs\\Python\\Python39\\lib\\site-packages\\sklearn\\pipeline.py\", line 382, in fit\n",
      "    self._final_estimator.fit(Xt, y, **fit_params_last_step)\n",
      "  File \"c:\\Users\\miche\\AppData\\Local\\Programs\\Python\\Python39\\lib\\site-packages\\sklearn\\linear_model\\_logistic.py\", line 1091, in fit\n",
      "    solver = _check_solver(self.solver, self.penalty, self.dual)\n",
      "  File \"c:\\Users\\miche\\AppData\\Local\\Programs\\Python\\Python39\\lib\\site-packages\\sklearn\\linear_model\\_logistic.py\", line 55, in _check_solver\n",
      "    raise ValueError(\n",
      "ValueError: Logistic Regression supports only penalties in ['l1', 'l2', 'elasticnet', 'none'], got None.\n",
      "\n",
      "  warnings.warn(some_fits_failed_message, FitFailedWarning)\n",
      "c:\\Users\\miche\\AppData\\Local\\Programs\\Python\\Python39\\lib\\site-packages\\sklearn\\model_selection\\_search.py:953: UserWarning: One or more of the test scores are non-finite: [       nan 0.83521292        nan        nan]\n",
      "  warnings.warn(\n"
     ]
    },
    {
     "name": "stdout",
     "output_type": "stream",
     "text": [
      "The best parameters: {'lr__penalty': 'l2', 'pca__n_components': 34}\n",
      "Classification Report:\n",
      "               precision    recall  f1-score   support\n",
      "\n",
      "           1       1.00      1.00      1.00        30\n",
      "           2       1.00      0.80      0.89        25\n",
      "           3       0.72      0.81      0.76        26\n",
      "           4       0.70      0.70      0.70        23\n",
      "           5       0.84      0.95      0.89        22\n",
      "           6       0.96      0.93      0.94        27\n",
      "           7       1.00      1.00      1.00        20\n",
      "\n",
      "    accuracy                           0.88       173\n",
      "   macro avg       0.89      0.88      0.88       173\n",
      "weighted avg       0.89      0.88      0.89       173\n",
      "\n",
      "TESTING RESULTS: \n",
      "===============================\n",
      "CONFUSION MATRIX:\n",
      "[[30  0  0  0  0  0  0]\n",
      " [ 0 20  5  0  0  0  0]\n",
      " [ 0  0 21  5  0  0  0]\n",
      " [ 0  0  3 16  4  0  0]\n",
      " [ 0  0  0  0 21  1  0]\n",
      " [ 0  0  0  2  0 25  0]\n",
      " [ 0  0  0  0  0  0 20]]\n",
      "ACCURACY SCORE:\n",
      "0.8844\n"
     ]
    }
   ],
   "source": [
    "lr_pipeline = Pipeline(\n",
    "    steps=[\n",
    "        (\"scaler\", StandardScaler()),\n",
    "        (\"pca\", PCA(random_state=RANDOM_SEED)),\n",
    "        (\"lr\", LogisticRegression(max_iter=10000))\n",
    "    ]\n",
    ")\n",
    "\n",
    "lr_estimator = GridSearchCV(\n",
    "    estimator=lr_pipeline,\n",
    "    param_grid = {\n",
    "        \"pca__n_components\":[34],\n",
    "        \"lr__penalty\": [\"l1\", \"l2\", \"elasticnet\", None]\n",
    "    },\n",
    "    cv=3,\n",
    "    verbose=2,\n",
    "    scoring=\"f1_weighted\",\n",
    "    )\n",
    "\n",
    "lr_estimator.fit(X_train, y_train)\n",
    "print(f\"The best parameters: {lr_estimator.best_params_}\")\n",
    "\n",
    "### Setze die besten Parameter in die Pipeline ein und fitte erneut auf Trainingsdaten\n",
    "lr_pipeline.set_params(**lr_estimator.best_params_)\n",
    "lr_pipeline.fit(X_train, y_train)\n",
    "\n",
    "### Klassifierungsevaluation\n",
    "lr_pred = lr_pipeline.predict(X_test)\n",
    "print(\"Classification Report:\\n\", classification_report(y_test, lr_pred))\n",
    "print(\"TESTING RESULTS: \\n===============================\")\n",
    "print(f\"CONFUSION MATRIX:\\n{confusion_matrix(y_test, lr_pred)}\")\n",
    "print(f\"ACCURACY SCORE:\\n{accuracy_score(y_test, lr_pred):.4f}\")"
   ]
  },
  {
   "cell_type": "markdown",
   "metadata": {},
   "source": [
    "# kNN"
   ]
  },
  {
   "cell_type": "code",
   "execution_count": 16,
   "metadata": {},
   "outputs": [
    {
     "name": "stdout",
     "output_type": "stream",
     "text": [
      "Fitting 3 folds for each of 5 candidates, totalling 15 fits\n",
      "[CV] END ...........kNN__n_neighbors=3, pca__n_components=34; total time=   5.9s\n",
      "[CV] END ...........kNN__n_neighbors=3, pca__n_components=34; total time=   4.9s\n",
      "[CV] END ...........kNN__n_neighbors=3, pca__n_components=34; total time=   5.2s\n",
      "[CV] END ...........kNN__n_neighbors=5, pca__n_components=34; total time=   5.4s\n",
      "[CV] END ...........kNN__n_neighbors=5, pca__n_components=34; total time=   5.0s\n",
      "[CV] END ...........kNN__n_neighbors=5, pca__n_components=34; total time=   5.8s\n",
      "[CV] END ..........kNN__n_neighbors=10, pca__n_components=34; total time=   5.1s\n",
      "[CV] END ..........kNN__n_neighbors=10, pca__n_components=34; total time=   5.0s\n",
      "[CV] END ..........kNN__n_neighbors=10, pca__n_components=34; total time=   5.1s\n",
      "[CV] END ..........kNN__n_neighbors=20, pca__n_components=34; total time=   5.1s\n",
      "[CV] END ..........kNN__n_neighbors=20, pca__n_components=34; total time=   5.0s\n",
      "[CV] END ..........kNN__n_neighbors=20, pca__n_components=34; total time=   4.9s\n",
      "[CV] END ..........kNN__n_neighbors=50, pca__n_components=34; total time=   4.8s\n",
      "[CV] END ..........kNN__n_neighbors=50, pca__n_components=34; total time=   5.0s\n",
      "[CV] END ..........kNN__n_neighbors=50, pca__n_components=34; total time=   5.4s\n",
      "The best parameters: {'kNN__n_neighbors': 3, 'pca__n_components': 34}\n",
      "Classification Report:\n",
      "               precision    recall  f1-score   support\n",
      "\n",
      "           1       1.00      0.87      0.93        30\n",
      "           2       0.81      0.84      0.82        25\n",
      "           3       0.44      0.31      0.36        26\n",
      "           4       0.28      0.48      0.35        23\n",
      "           5       0.70      0.32      0.44        22\n",
      "           6       0.80      0.89      0.84        27\n",
      "           7       0.83      1.00      0.91        20\n",
      "\n",
      "    accuracy                           0.68       173\n",
      "   macro avg       0.70      0.67      0.67       173\n",
      "weighted avg       0.70      0.68      0.67       173\n",
      "\n",
      "TESTING RESULTS: \n",
      "===============================\n",
      "CONFUSION MATRIX:\n",
      "[[26  0  0  0  0  0  4]\n",
      " [ 0 21  1  3  0  0  0]\n",
      " [ 0  3  8 15  0  0  0]\n",
      " [ 0  2  8 11  2  0  0]\n",
      " [ 0  0  1  8  7  6  0]\n",
      " [ 0  0  0  2  1 24  0]\n",
      " [ 0  0  0  0  0  0 20]]\n",
      "ACCURACY SCORE:\n",
      "0.6763\n"
     ]
    }
   ],
   "source": [
    "kNN_pipeline = Pipeline(\n",
    "    steps=[\n",
    "        (\"scaler\", StandardScaler()),\n",
    "        (\"pca\", PCA(random_state=RANDOM_SEED)),\n",
    "        (\"kNN\", KNeighborsClassifier())\n",
    "    ]\n",
    ")\n",
    "\n",
    "kNN_estimator = GridSearchCV(\n",
    "    estimator=kNN_pipeline,\n",
    "    param_grid = {\n",
    "        \"pca__n_components\":[34],\n",
    "        \"kNN__n_neighbors\": [3, 5, 10, 20, 50],\n",
    "    },\n",
    "    cv=3,\n",
    "    verbose=2,\n",
    "    scoring=\"f1_weighted\",\n",
    "    )\n",
    "\n",
    "kNN_estimator.fit(X_train, y_train)\n",
    "print(f\"The best parameters: {kNN_estimator.best_params_}\")\n",
    "\n",
    "### Setze die besten Parameter in die Pipeline ein und fitte erneut auf Trainingsdaten\n",
    "kNN_pipeline.set_params(**kNN_estimator.best_params_)\n",
    "kNN_pipeline.fit(X_train, y_train)\n",
    "\n",
    "### Klassifierungsevaluation\n",
    "kNN_pred = kNN_pipeline.predict(X_test)\n",
    "print(\"Classification Report:\\n\", classification_report(y_test, kNN_pred))\n",
    "print(\"TESTING RESULTS: \\n===============================\")\n",
    "print(f\"CONFUSION MATRIX:\\n{confusion_matrix(y_test, kNN_pred)}\")\n",
    "print(f\"ACCURACY SCORE:\\n{accuracy_score(y_test, kNN_pred):.4f}\")"
   ]
  }
 ],
 "metadata": {
  "kernelspec": {
   "display_name": "NLP",
   "language": "python",
   "name": "python3"
  },
  "language_info": {
   "codemirror_mode": {
    "name": "ipython",
    "version": 3
   },
   "file_extension": ".py",
   "mimetype": "text/x-python",
   "name": "python",
   "nbconvert_exporter": "python",
   "pygments_lexer": "ipython3",
   "version": "3.9.12 (main, Apr  4 2022, 05:22:27) [MSC v.1916 64 bit (AMD64)]"
  },
  "vscode": {
   "interpreter": {
    "hash": "cde137ca4d604021dfeee5cc69f15444c7734737e8b71c16850c523803c8f980"
   }
  }
 },
 "nbformat": 4,
 "nbformat_minor": 4
}
