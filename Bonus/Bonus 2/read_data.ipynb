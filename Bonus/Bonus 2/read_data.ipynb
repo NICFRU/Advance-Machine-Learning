{
 "cells": [
  {
   "cell_type": "code",
   "execution_count": 3,
   "metadata": {},
   "outputs": [],
   "source": [
    "def convert_csv(file):\n",
    "    with open(file + \".csv\", \"w\") as file_dst:\n",
    "        with open(file, \"r\") as file_src:\n",
    "            for line in file_src:\n",
    "                #line = line.replace(\"[\",\"[\")\n",
    "                #line = line.replace(\"]\",\"]\")\n",
    "                line=line.replace(\";\",\"]|[\")\n",
    "                line=line.replace(\" \",\",\")\n",
    "                #line = line.replace(\" \",\";\")\n",
    "\n",
    "                file_dst.write(line)\n",
    "\n",
    "convert_csv(\"data/PEMS_test\")"
   ]
  },
  {
   "cell_type": "code",
   "execution_count": null,
   "metadata": {},
   "outputs": [],
   "source": []
  }
 ],
 "metadata": {
  "kernelspec": {
   "display_name": "Python 3.9.12 ('NLP')",
   "language": "python",
   "name": "python3"
  },
  "language_info": {
   "codemirror_mode": {
    "name": "ipython",
    "version": 3
   },
   "file_extension": ".py",
   "mimetype": "text/x-python",
   "name": "python",
   "nbconvert_exporter": "python",
   "pygments_lexer": "ipython3",
   "version": "3.9.12"
  },
  "orig_nbformat": 4,
  "vscode": {
   "interpreter": {
    "hash": "cde137ca4d604021dfeee5cc69f15444c7734737e8b71c16850c523803c8f980"
   }
  }
 },
 "nbformat": 4,
 "nbformat_minor": 2
}
